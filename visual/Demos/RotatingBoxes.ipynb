{
 "cells": [
  {
   "cell_type": "code",
   "execution_count": null,
   "metadata": {
    "collapsed": false
   },
   "outputs": [
    {
     "data": {
      "application/javascript": [
       "require.undef(\"nbextensions/jquery-ui.custom.min\");"
      ],
      "text/plain": [
       "<IPython.core.display.Javascript object>"
      ]
     },
     "metadata": {},
     "output_type": "display_data"
    },
    {
     "data": {
      "application/javascript": [
       "require.undef(\"nbextensions/glow.2.1.min\");"
      ],
      "text/plain": [
       "<IPython.core.display.Javascript object>"
      ]
     },
     "metadata": {},
     "output_type": "display_data"
    },
    {
     "data": {
      "application/javascript": [
       "require.undef(\"nbextensions/glowcomm\");"
      ],
      "text/plain": [
       "<IPython.core.display.Javascript object>"
      ]
     },
     "metadata": {},
     "output_type": "display_data"
    },
    {
     "data": {
      "application/javascript": [
       "require.undef(\"nbextensions/pako.min\");"
      ],
      "text/plain": [
       "<IPython.core.display.Javascript object>"
      ]
     },
     "metadata": {},
     "output_type": "display_data"
    },
    {
     "data": {
      "application/javascript": [
       "require.undef(\"nbextensions/pako_deflate.min\");"
      ],
      "text/plain": [
       "<IPython.core.display.Javascript object>"
      ]
     },
     "metadata": {},
     "output_type": "display_data"
    },
    {
     "data": {
      "application/javascript": [
       "require.undef(\"nbextensions/pako_inflate.min\");"
      ],
      "text/plain": [
       "<IPython.core.display.Javascript object>"
      ]
     },
     "metadata": {},
     "output_type": "display_data"
    },
    {
     "data": {
      "application/javascript": [
       "require([\"nbextensions/glowcomm\"], function(){console.log(\"glowcomm loaded\");})"
      ],
      "text/plain": [
       "<IPython.core.display.Javascript object>"
      ]
     },
     "metadata": {},
     "output_type": "display_data"
    },
    {
     "data": {
      "text/html": [
       "<div id=\"glowscript\" class=\"glowscript\"></div>"
      ],
      "text/plain": [
       "<IPython.core.display.HTML object>"
      ]
     },
     "metadata": {},
     "output_type": "display_data"
    },
    {
     "data": {
      "application/javascript": [
       "window.__context = { glowscript_container: $(\"#glowscript\").removeAttr(\"id\")}"
      ],
      "text/plain": [
       "<IPython.core.display.Javascript object>"
      ]
     },
     "metadata": {},
     "output_type": "display_data"
    }
   ],
   "source": [
    "from vpython import *\n",
    "from time import clock\n",
    "\n",
    "N = 10\n",
    "\n",
    "scene.title = \"{} by {} by {} = {} rotating boxes\".format(N,N,N,N**3)\n",
    "\n",
    "boxes = []\n",
    "\n",
    "L = 6\n",
    "scene.range = L\n",
    "length = 0.6*L/N\n",
    "height = 0.4*L/N\n",
    "\n",
    "for x in range(N):\n",
    "    for y in range(N):\n",
    "        for z in range(N):\n",
    "            b = box(color=vector(x/N,y/N,z/N),\n",
    "                pos=vector(L*(x/(N-1)-.5),L*(y/(N-1)-.5),L*(z/(N-1)-.5)),\n",
    "                size=vector(length,height,length))\n",
    "            boxes.append(b)\n",
    "\n",
    "t = 0\n",
    "dt = 0.01\n",
    "loops = 0\n",
    "ctime = 0\n",
    "start = clock()\n",
    "N = 200\n",
    "\n",
    "while True:\n",
    "    if loops == N:\n",
    "        s = '{:0.1f} millisecond computation per loop'.format(1000*ctime/loops)\n",
    "        s += '\\n{:3.0f} loops per second'.format(loops/(clock()-start))\n",
    "        scene.caption = s\n",
    "        ctime = 0\n",
    "        loops = 0\n",
    "        start = clock()\n",
    "    rate(N)\n",
    "    t += dt\n",
    "    ct = clock()\n",
    "    v = length*vector(sin(t), 0, cos(t))\n",
    "    for b in boxes:\n",
    "        b.axis = v                               # pre-cython Jupyter 3.1 ms; GlowScript 0.4 ms \n",
    "        #b.rotate(angle=.01, axis=vector(0,1,0)) # pre-cython Jupyter 38 ms; GlowScript 3.3 ms\n",
    "    ctime += clock()-ct\n",
    "    loops += 1\n",
    "\n",
    "# For b.axis = v:\n",
    "# Use cyvector class: 2.3 ms (1.3 times better than vector)\n",
    "# Classic 0.9 ms (2.6 times better than cyvector)\n",
    "\n",
    "# For b.rotate(angle=.01, axis=vector(0,1,0)):\n",
    "# Use cyvector class: 14.5 ms (2.6 times better than vector)\n",
    "# Classic 6.3 ms (2.3 times better than cyvector)"
   ]
  },
  {
   "cell_type": "code",
   "execution_count": null,
   "metadata": {
    "collapsed": true
   },
   "outputs": [],
   "source": []
  }
 ],
 "metadata": {
  "kernelspec": {
   "display_name": "VPython",
   "language": "python",
   "name": "vpython"
  },
  "language_info": {
   "codemirror_mode": {
    "name": "ipython",
    "version": 3
   },
   "file_extension": ".py",
   "mimetype": "text/x-python",
   "name": "python",
   "nbconvert_exporter": "python",
   "pygments_lexer": "ipython3",
   "version": "3.5.1"
  }
 },
 "nbformat": 4,
 "nbformat_minor": 0
}
