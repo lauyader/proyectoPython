{
 "cells": [
  {
   "cell_type": "code",
   "execution_count": null,
   "metadata": {
    "collapsed": false
   },
   "outputs": [],
   "source": [
    "import ipywidgets as wd\n",
    "from vpython import *\n",
    "\n",
    "# For some reason, this program that uses widgets sometimes doesn't make the 3D display without a restart\n",
    "\n",
    "# This is an experiment in using Jupyter widgets (button, slider, menu).\n",
    "# Compare with the similar program in the Example programs at glowscript.org.\n",
    "# Ideally, we would like to use the same widget statements in both GlowScript and Jupyter VPython.\n",
    "\n",
    "scene.width = 350\n",
    "scene.height = 300\n",
    "scene.range = 1.5\n",
    "scene.title = \"Buttons, Sliders, and Drop-down Menus\"\n",
    "\n",
    "box_object = box(visible=True)\n",
    "cone_object = cone(visible=False, radius=0.5)\n",
    "pyramid_object = pyramid(visible=False)\n",
    "cylinder_object = cylinder(visible=False, radius=0.5)\n",
    "objects = {'box':box_object, 'cone':cone_object, 'pyramid':pyramid_object, 'cylinder':cylinder_object}\n",
    "\n",
    "currentobject = box_object\n",
    "currentobject.color = color.cyan\n",
    "\n",
    "b = wd.Button(description='Pause')\n",
    "c = wd.Button(description='Red')\n",
    "m = wd.Dropdown(options=['box', 'cone', 'cylinder', 'pyramid'], value='box',\n",
    "                           description='Object:')\n",
    "container = wd.HBox(children=[b,c,m])\n",
    "display(container)\n",
    "sl = wd.FloatSlider(description='Rotation speed:', min=20, max=500, step=1, value=250)\n",
    "display(sl)\n",
    "\n",
    "running = True\n",
    "\n",
    "def b_handler(s):\n",
    "    global running\n",
    "    running = not running\n",
    "    if s.description == 'Run': s.description = 'Pause'\n",
    "    else: s.description = 'Run'\n",
    "b.on_click(b_handler)\n",
    "\n",
    "def c_handler(s):\n",
    "    if s.description == 'Red':\n",
    "        s.description = 'Cyan'\n",
    "        currentobject.color = color.red\n",
    "    else:\n",
    "        s.description = 'Red'\n",
    "        currentobject.color = color.cyan\n",
    "c.on_click(c_handler)\n",
    "\n",
    "def m_handler(s):\n",
    "    global currentobject\n",
    "    col = currentobject.color\n",
    "    currentobject.visible = False\n",
    "    currentobject = objects[s['new']]\n",
    "    currentobject.color = col\n",
    "    currentobject.visible = True\n",
    "m.observe(m_handler, names='value')\n",
    "\n",
    "while True:\n",
    "    rate(100)\n",
    "    if running:\n",
    "        currentobject.rotate(angle=1e-4*sl.value, axis=vec(0,1,0))"
   ]
  },
  {
   "cell_type": "code",
   "execution_count": null,
   "metadata": {
    "collapsed": true
   },
   "outputs": [],
   "source": []
  }
 ],
 "metadata": {
  "kernelspec": {
   "display_name": "VPython",
   "language": "python",
   "name": "vpython"
  },
  "language_info": {
   "codemirror_mode": {
    "name": "ipython",
    "version": 3
   },
   "file_extension": ".py",
   "mimetype": "text/x-python",
   "name": "python",
   "nbconvert_exporter": "python",
   "pygments_lexer": "ipython3",
   "version": "3.5.1"
  }
 },
 "nbformat": 4,
 "nbformat_minor": 0
}
